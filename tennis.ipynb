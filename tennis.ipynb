{
 "cells": [
  {
   "cell_type": "markdown",
   "id": "3e376e5e",
   "metadata": {},
   "source": [
    "# Dataset Play Tennis"
   ]
  },
  {
   "cell_type": "code",
   "execution_count": 79,
   "id": "92e43972",
   "metadata": {},
   "outputs": [],
   "source": [
    "import warnings\n",
    "warnings.filterwarnings('ignore')\n",
    "\n",
    "import pandas as pd\n",
    "\n",
    "import matplotlib.pyplot as plt\n",
    "\n",
    "from sklearn.preprocessing import LabelEncoder\n",
    "from sklearn.model_selection import train_test_split\n",
    "from sklearn.metrics import accuracy_score, f1_score\n",
    "\n",
    "from sklearn import tree\n",
    "from sklearn.tree import export_text\n",
    "\n",
    "import six\n",
    "import sys\n",
    "import graphviz\n",
    "sys.modules['sklearn.externals.six'] = six\n",
    "from id3 import Id3Estimator\n",
    "from sklearn.tree import export_graphviz\n",
    "\n",
    "from sklearn.cluster import KMeans\n",
    "\n",
    "from sklearn.linear_model import LogisticRegression\n",
    "\n",
    "from sklearn.neural_network import MLPClassifier\n",
    "\n",
    "from sklearn.pipeline import make_pipeline\n",
    "from sklearn.preprocessing import StandardScaler\n",
    "from sklearn.svm import SVC"
   ]
  },
  {
   "cell_type": "markdown",
   "id": "da99d23f",
   "metadata": {},
   "source": [
    "### Constant"
   ]
  },
  {
   "cell_type": "code",
   "execution_count": 80,
   "id": "cf4983f3",
   "metadata": {},
   "outputs": [],
   "source": [
    "RANDOM_STATE = 1"
   ]
  },
  {
   "cell_type": "markdown",
   "id": "b3feed32",
   "metadata": {},
   "source": [
    "### Read Data"
   ]
  },
  {
   "cell_type": "code",
   "execution_count": 81,
   "id": "1e838de2",
   "metadata": {},
   "outputs": [
    {
     "data": {
      "text/html": [
       "<div>\n",
       "<style scoped>\n",
       "    .dataframe tbody tr th:only-of-type {\n",
       "        vertical-align: middle;\n",
       "    }\n",
       "\n",
       "    .dataframe tbody tr th {\n",
       "        vertical-align: top;\n",
       "    }\n",
       "\n",
       "    .dataframe thead th {\n",
       "        text-align: right;\n",
       "    }\n",
       "</style>\n",
       "<table border=\"1\" class=\"dataframe\">\n",
       "  <thead>\n",
       "    <tr style=\"text-align: right;\">\n",
       "      <th></th>\n",
       "      <th>Outlook</th>\n",
       "      <th>Temperature</th>\n",
       "      <th>Humidity</th>\n",
       "      <th>Wind</th>\n",
       "      <th>Play Tennis</th>\n",
       "    </tr>\n",
       "  </thead>\n",
       "  <tbody>\n",
       "    <tr>\n",
       "      <th>0</th>\n",
       "      <td>Sunny</td>\n",
       "      <td>Hot</td>\n",
       "      <td>High</td>\n",
       "      <td>Weak</td>\n",
       "      <td>No</td>\n",
       "    </tr>\n",
       "    <tr>\n",
       "      <th>1</th>\n",
       "      <td>Sunny</td>\n",
       "      <td>Hot</td>\n",
       "      <td>High</td>\n",
       "      <td>Strong</td>\n",
       "      <td>No</td>\n",
       "    </tr>\n",
       "    <tr>\n",
       "      <th>2</th>\n",
       "      <td>Overcast</td>\n",
       "      <td>Hot</td>\n",
       "      <td>High</td>\n",
       "      <td>Weak</td>\n",
       "      <td>Yes</td>\n",
       "    </tr>\n",
       "    <tr>\n",
       "      <th>3</th>\n",
       "      <td>Rain</td>\n",
       "      <td>Mild</td>\n",
       "      <td>High</td>\n",
       "      <td>Weak</td>\n",
       "      <td>Yes</td>\n",
       "    </tr>\n",
       "    <tr>\n",
       "      <th>4</th>\n",
       "      <td>Rain</td>\n",
       "      <td>Cool</td>\n",
       "      <td>Normal</td>\n",
       "      <td>Weak</td>\n",
       "      <td>Yes</td>\n",
       "    </tr>\n",
       "    <tr>\n",
       "      <th>5</th>\n",
       "      <td>Rain</td>\n",
       "      <td>Cool</td>\n",
       "      <td>Normal</td>\n",
       "      <td>Strong</td>\n",
       "      <td>No</td>\n",
       "    </tr>\n",
       "    <tr>\n",
       "      <th>6</th>\n",
       "      <td>Overcast</td>\n",
       "      <td>Cool</td>\n",
       "      <td>Normal</td>\n",
       "      <td>Strong</td>\n",
       "      <td>Yes</td>\n",
       "    </tr>\n",
       "    <tr>\n",
       "      <th>7</th>\n",
       "      <td>Sunny</td>\n",
       "      <td>Mild</td>\n",
       "      <td>High</td>\n",
       "      <td>Weak</td>\n",
       "      <td>No</td>\n",
       "    </tr>\n",
       "    <tr>\n",
       "      <th>8</th>\n",
       "      <td>Sunny</td>\n",
       "      <td>Cool</td>\n",
       "      <td>Normal</td>\n",
       "      <td>Weak</td>\n",
       "      <td>Yes</td>\n",
       "    </tr>\n",
       "    <tr>\n",
       "      <th>9</th>\n",
       "      <td>Rain</td>\n",
       "      <td>Mild</td>\n",
       "      <td>Normal</td>\n",
       "      <td>Weak</td>\n",
       "      <td>Yes</td>\n",
       "    </tr>\n",
       "    <tr>\n",
       "      <th>10</th>\n",
       "      <td>Sunny</td>\n",
       "      <td>Mild</td>\n",
       "      <td>Normal</td>\n",
       "      <td>Strong</td>\n",
       "      <td>Yes</td>\n",
       "    </tr>\n",
       "    <tr>\n",
       "      <th>11</th>\n",
       "      <td>Overcast</td>\n",
       "      <td>Mild</td>\n",
       "      <td>High</td>\n",
       "      <td>Strong</td>\n",
       "      <td>Yes</td>\n",
       "    </tr>\n",
       "    <tr>\n",
       "      <th>12</th>\n",
       "      <td>Overcast</td>\n",
       "      <td>Hot</td>\n",
       "      <td>Normal</td>\n",
       "      <td>Weak</td>\n",
       "      <td>Yes</td>\n",
       "    </tr>\n",
       "    <tr>\n",
       "      <th>13</th>\n",
       "      <td>Rain</td>\n",
       "      <td>Mild</td>\n",
       "      <td>High</td>\n",
       "      <td>Strong</td>\n",
       "      <td>No</td>\n",
       "    </tr>\n",
       "  </tbody>\n",
       "</table>\n",
       "</div>"
      ],
      "text/plain": [
       "     Outlook Temperature Humidity    Wind Play Tennis\n",
       "0      Sunny         Hot     High    Weak          No\n",
       "1      Sunny         Hot     High  Strong          No\n",
       "2   Overcast         Hot     High    Weak         Yes\n",
       "3       Rain        Mild     High    Weak         Yes\n",
       "4       Rain        Cool   Normal    Weak         Yes\n",
       "5       Rain        Cool   Normal  Strong          No\n",
       "6   Overcast        Cool   Normal  Strong         Yes\n",
       "7      Sunny        Mild     High    Weak          No\n",
       "8      Sunny        Cool   Normal    Weak         Yes\n",
       "9       Rain        Mild   Normal    Weak         Yes\n",
       "10     Sunny        Mild   Normal  Strong         Yes\n",
       "11  Overcast        Mild     High  Strong         Yes\n",
       "12  Overcast         Hot   Normal    Weak         Yes\n",
       "13      Rain        Mild     High  Strong          No"
      ]
     },
     "execution_count": 81,
     "metadata": {},
     "output_type": "execute_result"
    }
   ],
   "source": [
    "df = pd.read_csv('PlayTennis.csv')\n",
    "df"
   ]
  },
  {
   "cell_type": "markdown",
   "id": "357e491f",
   "metadata": {},
   "source": [
    "### Get Attribute and Class Name"
   ]
  },
  {
   "cell_type": "code",
   "execution_count": 82,
   "id": "7bbbd06d",
   "metadata": {},
   "outputs": [
    {
     "name": "stdout",
     "output_type": "stream",
     "text": [
      "['Outlook', 'Temperature', 'Humidity', 'Wind']\n",
      "Play Tennis\n"
     ]
    }
   ],
   "source": [
    "col_name = df.columns.tolist()\n",
    "feat_name = col_name[:-1]\n",
    "class_name = col_name[-1]\n",
    "print(feat_name)\n",
    "print(class_name)"
   ]
  },
  {
   "cell_type": "markdown",
   "id": "4e5cc525",
   "metadata": {},
   "source": [
    "### Label Encoding"
   ]
  },
  {
   "cell_type": "code",
   "execution_count": 83,
   "id": "3af8f881",
   "metadata": {},
   "outputs": [
    {
     "data": {
      "text/html": [
       "<div>\n",
       "<style scoped>\n",
       "    .dataframe tbody tr th:only-of-type {\n",
       "        vertical-align: middle;\n",
       "    }\n",
       "\n",
       "    .dataframe tbody tr th {\n",
       "        vertical-align: top;\n",
       "    }\n",
       "\n",
       "    .dataframe thead th {\n",
       "        text-align: right;\n",
       "    }\n",
       "</style>\n",
       "<table border=\"1\" class=\"dataframe\">\n",
       "  <thead>\n",
       "    <tr style=\"text-align: right;\">\n",
       "      <th></th>\n",
       "      <th>Outlook</th>\n",
       "      <th>Temperature</th>\n",
       "      <th>Humidity</th>\n",
       "      <th>Wind</th>\n",
       "      <th>Play Tennis</th>\n",
       "    </tr>\n",
       "  </thead>\n",
       "  <tbody>\n",
       "    <tr>\n",
       "      <th>0</th>\n",
       "      <td>2</td>\n",
       "      <td>1</td>\n",
       "      <td>0</td>\n",
       "      <td>1</td>\n",
       "      <td>0</td>\n",
       "    </tr>\n",
       "    <tr>\n",
       "      <th>1</th>\n",
       "      <td>2</td>\n",
       "      <td>1</td>\n",
       "      <td>0</td>\n",
       "      <td>0</td>\n",
       "      <td>0</td>\n",
       "    </tr>\n",
       "    <tr>\n",
       "      <th>2</th>\n",
       "      <td>0</td>\n",
       "      <td>1</td>\n",
       "      <td>0</td>\n",
       "      <td>1</td>\n",
       "      <td>1</td>\n",
       "    </tr>\n",
       "    <tr>\n",
       "      <th>3</th>\n",
       "      <td>1</td>\n",
       "      <td>2</td>\n",
       "      <td>0</td>\n",
       "      <td>1</td>\n",
       "      <td>1</td>\n",
       "    </tr>\n",
       "    <tr>\n",
       "      <th>4</th>\n",
       "      <td>1</td>\n",
       "      <td>0</td>\n",
       "      <td>1</td>\n",
       "      <td>1</td>\n",
       "      <td>1</td>\n",
       "    </tr>\n",
       "    <tr>\n",
       "      <th>5</th>\n",
       "      <td>1</td>\n",
       "      <td>0</td>\n",
       "      <td>1</td>\n",
       "      <td>0</td>\n",
       "      <td>0</td>\n",
       "    </tr>\n",
       "    <tr>\n",
       "      <th>6</th>\n",
       "      <td>0</td>\n",
       "      <td>0</td>\n",
       "      <td>1</td>\n",
       "      <td>0</td>\n",
       "      <td>1</td>\n",
       "    </tr>\n",
       "    <tr>\n",
       "      <th>7</th>\n",
       "      <td>2</td>\n",
       "      <td>2</td>\n",
       "      <td>0</td>\n",
       "      <td>1</td>\n",
       "      <td>0</td>\n",
       "    </tr>\n",
       "    <tr>\n",
       "      <th>8</th>\n",
       "      <td>2</td>\n",
       "      <td>0</td>\n",
       "      <td>1</td>\n",
       "      <td>1</td>\n",
       "      <td>1</td>\n",
       "    </tr>\n",
       "    <tr>\n",
       "      <th>9</th>\n",
       "      <td>1</td>\n",
       "      <td>2</td>\n",
       "      <td>1</td>\n",
       "      <td>1</td>\n",
       "      <td>1</td>\n",
       "    </tr>\n",
       "    <tr>\n",
       "      <th>10</th>\n",
       "      <td>2</td>\n",
       "      <td>2</td>\n",
       "      <td>1</td>\n",
       "      <td>0</td>\n",
       "      <td>1</td>\n",
       "    </tr>\n",
       "    <tr>\n",
       "      <th>11</th>\n",
       "      <td>0</td>\n",
       "      <td>2</td>\n",
       "      <td>0</td>\n",
       "      <td>0</td>\n",
       "      <td>1</td>\n",
       "    </tr>\n",
       "    <tr>\n",
       "      <th>12</th>\n",
       "      <td>0</td>\n",
       "      <td>1</td>\n",
       "      <td>1</td>\n",
       "      <td>1</td>\n",
       "      <td>1</td>\n",
       "    </tr>\n",
       "    <tr>\n",
       "      <th>13</th>\n",
       "      <td>1</td>\n",
       "      <td>2</td>\n",
       "      <td>0</td>\n",
       "      <td>0</td>\n",
       "      <td>0</td>\n",
       "    </tr>\n",
       "  </tbody>\n",
       "</table>\n",
       "</div>"
      ],
      "text/plain": [
       "    Outlook  Temperature  Humidity  Wind  Play Tennis\n",
       "0         2            1         0     1            0\n",
       "1         2            1         0     0            0\n",
       "2         0            1         0     1            1\n",
       "3         1            2         0     1            1\n",
       "4         1            0         1     1            1\n",
       "5         1            0         1     0            0\n",
       "6         0            0         1     0            1\n",
       "7         2            2         0     1            0\n",
       "8         2            0         1     1            1\n",
       "9         1            2         1     1            1\n",
       "10        2            2         1     0            1\n",
       "11        0            2         0     0            1\n",
       "12        0            1         1     1            1\n",
       "13        1            2         0     0            0"
      ]
     },
     "execution_count": 83,
     "metadata": {},
     "output_type": "execute_result"
    }
   ],
   "source": [
    "le = LabelEncoder()\n",
    "df = df.apply(le.fit_transform)\n",
    "df"
   ]
  },
  {
   "cell_type": "markdown",
   "id": "0fe5430a",
   "metadata": {},
   "source": [
    "### Split Train and Test Data"
   ]
  },
  {
   "cell_type": "code",
   "execution_count": 84,
   "id": "5f96b639",
   "metadata": {},
   "outputs": [],
   "source": [
    "X = df[feat_name]\n",
    "y = df[[class_name]]\n",
    "X_train, X_test, y_train, y_test = train_test_split(X, y, test_size=0.2, random_state=RANDOM_STATE)"
   ]
  },
  {
   "cell_type": "code",
   "execution_count": 85,
   "id": "d31691b0",
   "metadata": {},
   "outputs": [
    {
     "data": {
      "text/html": [
       "<div>\n",
       "<style scoped>\n",
       "    .dataframe tbody tr th:only-of-type {\n",
       "        vertical-align: middle;\n",
       "    }\n",
       "\n",
       "    .dataframe tbody tr th {\n",
       "        vertical-align: top;\n",
       "    }\n",
       "\n",
       "    .dataframe thead th {\n",
       "        text-align: right;\n",
       "    }\n",
       "</style>\n",
       "<table border=\"1\" class=\"dataframe\">\n",
       "  <thead>\n",
       "    <tr style=\"text-align: right;\">\n",
       "      <th></th>\n",
       "      <th>Outlook</th>\n",
       "      <th>Temperature</th>\n",
       "      <th>Humidity</th>\n",
       "      <th>Wind</th>\n",
       "    </tr>\n",
       "  </thead>\n",
       "  <tbody>\n",
       "    <tr>\n",
       "      <th>2</th>\n",
       "      <td>0</td>\n",
       "      <td>1</td>\n",
       "      <td>0</td>\n",
       "      <td>1</td>\n",
       "    </tr>\n",
       "    <tr>\n",
       "      <th>10</th>\n",
       "      <td>2</td>\n",
       "      <td>2</td>\n",
       "      <td>1</td>\n",
       "      <td>0</td>\n",
       "    </tr>\n",
       "    <tr>\n",
       "      <th>4</th>\n",
       "      <td>1</td>\n",
       "      <td>0</td>\n",
       "      <td>1</td>\n",
       "      <td>1</td>\n",
       "    </tr>\n",
       "    <tr>\n",
       "      <th>1</th>\n",
       "      <td>2</td>\n",
       "      <td>1</td>\n",
       "      <td>0</td>\n",
       "      <td>0</td>\n",
       "    </tr>\n",
       "    <tr>\n",
       "      <th>12</th>\n",
       "      <td>0</td>\n",
       "      <td>1</td>\n",
       "      <td>1</td>\n",
       "      <td>1</td>\n",
       "    </tr>\n",
       "    <tr>\n",
       "      <th>0</th>\n",
       "      <td>2</td>\n",
       "      <td>1</td>\n",
       "      <td>0</td>\n",
       "      <td>1</td>\n",
       "    </tr>\n",
       "    <tr>\n",
       "      <th>13</th>\n",
       "      <td>1</td>\n",
       "      <td>2</td>\n",
       "      <td>0</td>\n",
       "      <td>0</td>\n",
       "    </tr>\n",
       "    <tr>\n",
       "      <th>9</th>\n",
       "      <td>1</td>\n",
       "      <td>2</td>\n",
       "      <td>1</td>\n",
       "      <td>1</td>\n",
       "    </tr>\n",
       "    <tr>\n",
       "      <th>8</th>\n",
       "      <td>2</td>\n",
       "      <td>0</td>\n",
       "      <td>1</td>\n",
       "      <td>1</td>\n",
       "    </tr>\n",
       "    <tr>\n",
       "      <th>11</th>\n",
       "      <td>0</td>\n",
       "      <td>2</td>\n",
       "      <td>0</td>\n",
       "      <td>0</td>\n",
       "    </tr>\n",
       "    <tr>\n",
       "      <th>5</th>\n",
       "      <td>1</td>\n",
       "      <td>0</td>\n",
       "      <td>1</td>\n",
       "      <td>0</td>\n",
       "    </tr>\n",
       "  </tbody>\n",
       "</table>\n",
       "</div>"
      ],
      "text/plain": [
       "    Outlook  Temperature  Humidity  Wind\n",
       "2         0            1         0     1\n",
       "10        2            2         1     0\n",
       "4         1            0         1     1\n",
       "1         2            1         0     0\n",
       "12        0            1         1     1\n",
       "0         2            1         0     1\n",
       "13        1            2         0     0\n",
       "9         1            2         1     1\n",
       "8         2            0         1     1\n",
       "11        0            2         0     0\n",
       "5         1            0         1     0"
      ]
     },
     "execution_count": 85,
     "metadata": {},
     "output_type": "execute_result"
    }
   ],
   "source": [
    "X_train"
   ]
  },
  {
   "cell_type": "code",
   "execution_count": 86,
   "id": "68e5f725",
   "metadata": {},
   "outputs": [
    {
     "data": {
      "text/html": [
       "<div>\n",
       "<style scoped>\n",
       "    .dataframe tbody tr th:only-of-type {\n",
       "        vertical-align: middle;\n",
       "    }\n",
       "\n",
       "    .dataframe tbody tr th {\n",
       "        vertical-align: top;\n",
       "    }\n",
       "\n",
       "    .dataframe thead th {\n",
       "        text-align: right;\n",
       "    }\n",
       "</style>\n",
       "<table border=\"1\" class=\"dataframe\">\n",
       "  <thead>\n",
       "    <tr style=\"text-align: right;\">\n",
       "      <th></th>\n",
       "      <th>Play Tennis</th>\n",
       "    </tr>\n",
       "  </thead>\n",
       "  <tbody>\n",
       "    <tr>\n",
       "      <th>2</th>\n",
       "      <td>1</td>\n",
       "    </tr>\n",
       "    <tr>\n",
       "      <th>10</th>\n",
       "      <td>1</td>\n",
       "    </tr>\n",
       "    <tr>\n",
       "      <th>4</th>\n",
       "      <td>1</td>\n",
       "    </tr>\n",
       "    <tr>\n",
       "      <th>1</th>\n",
       "      <td>0</td>\n",
       "    </tr>\n",
       "    <tr>\n",
       "      <th>12</th>\n",
       "      <td>1</td>\n",
       "    </tr>\n",
       "    <tr>\n",
       "      <th>0</th>\n",
       "      <td>0</td>\n",
       "    </tr>\n",
       "    <tr>\n",
       "      <th>13</th>\n",
       "      <td>0</td>\n",
       "    </tr>\n",
       "    <tr>\n",
       "      <th>9</th>\n",
       "      <td>1</td>\n",
       "    </tr>\n",
       "    <tr>\n",
       "      <th>8</th>\n",
       "      <td>1</td>\n",
       "    </tr>\n",
       "    <tr>\n",
       "      <th>11</th>\n",
       "      <td>1</td>\n",
       "    </tr>\n",
       "    <tr>\n",
       "      <th>5</th>\n",
       "      <td>0</td>\n",
       "    </tr>\n",
       "  </tbody>\n",
       "</table>\n",
       "</div>"
      ],
      "text/plain": [
       "    Play Tennis\n",
       "2             1\n",
       "10            1\n",
       "4             1\n",
       "1             0\n",
       "12            1\n",
       "0             0\n",
       "13            0\n",
       "9             1\n",
       "8             1\n",
       "11            1\n",
       "5             0"
      ]
     },
     "execution_count": 86,
     "metadata": {},
     "output_type": "execute_result"
    }
   ],
   "source": [
    "y_train"
   ]
  },
  {
   "cell_type": "code",
   "execution_count": 87,
   "id": "2fd80864",
   "metadata": {},
   "outputs": [
    {
     "data": {
      "text/html": [
       "<div>\n",
       "<style scoped>\n",
       "    .dataframe tbody tr th:only-of-type {\n",
       "        vertical-align: middle;\n",
       "    }\n",
       "\n",
       "    .dataframe tbody tr th {\n",
       "        vertical-align: top;\n",
       "    }\n",
       "\n",
       "    .dataframe thead th {\n",
       "        text-align: right;\n",
       "    }\n",
       "</style>\n",
       "<table border=\"1\" class=\"dataframe\">\n",
       "  <thead>\n",
       "    <tr style=\"text-align: right;\">\n",
       "      <th></th>\n",
       "      <th>Outlook</th>\n",
       "      <th>Temperature</th>\n",
       "      <th>Humidity</th>\n",
       "      <th>Wind</th>\n",
       "    </tr>\n",
       "  </thead>\n",
       "  <tbody>\n",
       "    <tr>\n",
       "      <th>3</th>\n",
       "      <td>1</td>\n",
       "      <td>2</td>\n",
       "      <td>0</td>\n",
       "      <td>1</td>\n",
       "    </tr>\n",
       "    <tr>\n",
       "      <th>7</th>\n",
       "      <td>2</td>\n",
       "      <td>2</td>\n",
       "      <td>0</td>\n",
       "      <td>1</td>\n",
       "    </tr>\n",
       "    <tr>\n",
       "      <th>6</th>\n",
       "      <td>0</td>\n",
       "      <td>0</td>\n",
       "      <td>1</td>\n",
       "      <td>0</td>\n",
       "    </tr>\n",
       "  </tbody>\n",
       "</table>\n",
       "</div>"
      ],
      "text/plain": [
       "   Outlook  Temperature  Humidity  Wind\n",
       "3        1            2         0     1\n",
       "7        2            2         0     1\n",
       "6        0            0         1     0"
      ]
     },
     "execution_count": 87,
     "metadata": {},
     "output_type": "execute_result"
    }
   ],
   "source": [
    "X_test"
   ]
  },
  {
   "cell_type": "code",
   "execution_count": 88,
   "id": "aa7d63b5",
   "metadata": {},
   "outputs": [
    {
     "data": {
      "text/html": [
       "<div>\n",
       "<style scoped>\n",
       "    .dataframe tbody tr th:only-of-type {\n",
       "        vertical-align: middle;\n",
       "    }\n",
       "\n",
       "    .dataframe tbody tr th {\n",
       "        vertical-align: top;\n",
       "    }\n",
       "\n",
       "    .dataframe thead th {\n",
       "        text-align: right;\n",
       "    }\n",
       "</style>\n",
       "<table border=\"1\" class=\"dataframe\">\n",
       "  <thead>\n",
       "    <tr style=\"text-align: right;\">\n",
       "      <th></th>\n",
       "      <th>Play Tennis</th>\n",
       "    </tr>\n",
       "  </thead>\n",
       "  <tbody>\n",
       "    <tr>\n",
       "      <th>3</th>\n",
       "      <td>1</td>\n",
       "    </tr>\n",
       "    <tr>\n",
       "      <th>7</th>\n",
       "      <td>0</td>\n",
       "    </tr>\n",
       "    <tr>\n",
       "      <th>6</th>\n",
       "      <td>1</td>\n",
       "    </tr>\n",
       "  </tbody>\n",
       "</table>\n",
       "</div>"
      ],
      "text/plain": [
       "   Play Tennis\n",
       "3            1\n",
       "7            0\n",
       "6            1"
      ]
     },
     "execution_count": 88,
     "metadata": {},
     "output_type": "execute_result"
    }
   ],
   "source": [
    "y_test"
   ]
  },
  {
   "cell_type": "markdown",
   "id": "161cdb3f",
   "metadata": {},
   "source": [
    "## DecisionTreeClassifier"
   ]
  },
  {
   "cell_type": "code",
   "execution_count": 89,
   "id": "af986fd7",
   "metadata": {},
   "outputs": [
    {
     "data": {
      "text/plain": [
       "DecisionTreeClassifier(random_state=1)"
      ]
     },
     "execution_count": 89,
     "metadata": {},
     "output_type": "execute_result"
    }
   ],
   "source": [
    "clf = tree.DecisionTreeClassifier(random_state=RANDOM_STATE)\n",
    "clf.fit(X_train, y_train)"
   ]
  },
  {
   "cell_type": "markdown",
   "id": "5ca8cb31",
   "metadata": {},
   "source": [
    "### Visualize Tree"
   ]
  },
  {
   "cell_type": "code",
   "execution_count": 90,
   "id": "221fd81d",
   "metadata": {},
   "outputs": [
    {
     "name": "stdout",
     "output_type": "stream",
     "text": [
      "|--- Outlook <= 0.50\n",
      "|   |--- class: 1\n",
      "|--- Outlook >  0.50\n",
      "|   |--- Humidity <= 0.50\n",
      "|   |   |--- class: 0\n",
      "|   |--- Humidity >  0.50\n",
      "|   |   |--- Wind <= 0.50\n",
      "|   |   |   |--- Outlook <= 1.50\n",
      "|   |   |   |   |--- class: 0\n",
      "|   |   |   |--- Outlook >  1.50\n",
      "|   |   |   |   |--- class: 1\n",
      "|   |   |--- Wind >  0.50\n",
      "|   |   |   |--- class: 1\n",
      "\n"
     ]
    }
   ],
   "source": [
    "# Export tree\n",
    "r = export_text(clf, feature_names=feat_name)\n",
    "print(r)"
   ]
  },
  {
   "cell_type": "code",
   "execution_count": 91,
   "id": "f7c84687",
   "metadata": {},
   "outputs": [
    {
     "data": {
      "image/png": "[encoded data removed]",
      "text/plain": [
       "<Figure size 1800x1440 with 1 Axes>"
      ]
     },
     "metadata": {
      "needs_background": "light"
     },
     "output_type": "display_data"
    }
   ],
   "source": [
    "# Visualize tree\n",
    "fig = plt.figure(figsize=(25,20))\n",
    "_ = tree.plot_tree(clf, \n",
    "                   feature_names=feat_name,  \n",
    "                   class_names=[\"No\", \"Yes\"],\n",
    "                   filled=True)"
   ]
  },
  {
   "cell_type": "markdown",
   "id": "e95c847f",
   "metadata": {},
   "source": [
    "### Accuracy & F1 Score"
   ]
  },
  {
   "cell_type": "code",
   "execution_count": 92,
   "id": "a6e237c8",
   "metadata": {},
   "outputs": [
    {
     "name": "stdout",
     "output_type": "stream",
     "text": [
      "DecisionTreeClassifier\n",
      "Accuracy:  0.6666666666666666\n",
      "f1_score:  0.6666666666666666\n"
     ]
    }
   ],
   "source": [
    "pred_dtl = clf.predict(X_test)\n",
    "acc_dtl = accuracy_score(y_test, pred_dtl)\n",
    "f1_dtl = f1_score(y_test, pred_dtl)\n",
    "print(\"DecisionTreeClassifier\")\n",
    "print(\"Accuracy: \", acc_dtl)\n",
    "print(\"f1_score: \", f1_dtl)"
   ]
  },
  {
   "cell_type": "markdown",
   "id": "d79b38d1",
   "metadata": {},
   "source": [
    "## Id3Estimator"
   ]
  },
  {
   "cell_type": "code",
   "execution_count": 93,
   "id": "2016467f",
   "metadata": {},
   "outputs": [],
   "source": [
    "id3 = Id3Estimator()\n",
    "id3 = id3.fit(X_train, y_train)"
   ]
  },
  {
   "cell_type": "markdown",
   "id": "f8c09654",
   "metadata": {},
   "source": [
    "### Visualize Tree"
   ]
  },
  {
   "cell_type": "code",
   "execution_count": 97,
   "id": "fccbd0b0",
   "metadata": {},
   "outputs": [
    {
     "ename": "TypeError",
     "evalue": "<id3.tree.Tree object at 0x141468ac0> is not an estimator instance.",
     "output_type": "error",
     "traceback": [
      "\u001b[0;31m---------------------------------------------------------------------------\u001b[0m",
      "\u001b[0;31mTypeError\u001b[0m                                 Traceback (most recent call last)",
      "Input \u001b[0;32mIn [97]\u001b[0m, in \u001b[0;36m<module>\u001b[0;34m\u001b[0m\n\u001b[0;32m----> 1\u001b[0m dot_data \u001b[38;5;241m=\u001b[39m \u001b[43mtree\u001b[49m\u001b[38;5;241;43m.\u001b[39;49m\u001b[43mexport_graphviz\u001b[49m\u001b[43m(\u001b[49m\u001b[43mid3\u001b[49m\u001b[38;5;241;43m.\u001b[39;49m\u001b[43mtree_\u001b[49m\u001b[43m,\u001b[49m\u001b[43m \u001b[49m\u001b[43mout_file\u001b[49m\u001b[38;5;241;43m=\u001b[39;49m\u001b[38;5;28;43;01mNone\u001b[39;49;00m\u001b[43m,\u001b[49m\n\u001b[1;32m      2\u001b[0m \u001b[43m                               \u001b[49m\u001b[43mfeature_names\u001b[49m\u001b[38;5;241;43m=\u001b[39;49m\u001b[43mfeat_name\u001b[49m\u001b[43m,\u001b[49m\n\u001b[1;32m      3\u001b[0m \u001b[43m                               \u001b[49m\u001b[43mclass_names\u001b[49m\u001b[38;5;241;43m=\u001b[39;49m\u001b[43m[\u001b[49m\u001b[38;5;124;43m\"\u001b[39;49m\u001b[38;5;124;43mNo\u001b[39;49m\u001b[38;5;124;43m\"\u001b[39;49m\u001b[43m,\u001b[49m\u001b[43m \u001b[49m\u001b[38;5;124;43m\"\u001b[39;49m\u001b[38;5;124;43mYes\u001b[39;49m\u001b[38;5;124;43m\"\u001b[39;49m\u001b[43m]\u001b[49m\u001b[43m,\u001b[49m\n\u001b[1;32m      4\u001b[0m \u001b[43m                               \u001b[49m\u001b[43mfilled\u001b[49m\u001b[38;5;241;43m=\u001b[39;49m\u001b[38;5;28;43;01mTrue\u001b[39;49;00m\u001b[43m,\u001b[49m\u001b[43m \u001b[49m\u001b[43mrounded\u001b[49m\u001b[38;5;241;43m=\u001b[39;49m\u001b[38;5;28;43;01mTrue\u001b[39;49;00m\u001b[43m,\u001b[49m\n\u001b[1;32m      5\u001b[0m \u001b[43m                               \u001b[49m\u001b[43mspecial_characters\u001b[49m\u001b[38;5;241;43m=\u001b[39;49m\u001b[38;5;28;43;01mTrue\u001b[39;49;00m\u001b[43m)\u001b[49m\n\u001b[1;32m      6\u001b[0m graph \u001b[38;5;241m=\u001b[39m graphviz\u001b[38;5;241m.\u001b[39mSource(dot_data)\n\u001b[1;32m      7\u001b[0m graph\n",
      "File \u001b[0;32m/Library/Frameworks/Python.framework/Versions/3.10/lib/python3.10/site-packages/sklearn/tree/_export.py:860\u001b[0m, in \u001b[0;36mexport_graphviz\u001b[0;34m(decision_tree, out_file, max_depth, feature_names, class_names, label, filled, leaves_parallel, impurity, node_ids, proportion, rotate, rounded, special_characters, precision, fontname)\u001b[0m\n\u001b[1;32m    741\u001b[0m \u001b[38;5;28;01mdef\u001b[39;00m \u001b[38;5;21mexport_graphviz\u001b[39m(\n\u001b[1;32m    742\u001b[0m     decision_tree,\n\u001b[1;32m    743\u001b[0m     out_file\u001b[38;5;241m=\u001b[39m\u001b[38;5;28;01mNone\u001b[39;00m,\n\u001b[0;32m   (...)\u001b[0m\n\u001b[1;32m    758\u001b[0m     fontname\u001b[38;5;241m=\u001b[39m\u001b[38;5;124m\"\u001b[39m\u001b[38;5;124mhelvetica\u001b[39m\u001b[38;5;124m\"\u001b[39m,\n\u001b[1;32m    759\u001b[0m ):\n\u001b[1;32m    760\u001b[0m     \u001b[38;5;124;03m\"\"\"Export a decision tree in DOT format.\u001b[39;00m\n\u001b[1;32m    761\u001b[0m \n\u001b[1;32m    762\u001b[0m \u001b[38;5;124;03m    This function generates a GraphViz representation of the decision tree,\u001b[39;00m\n\u001b[0;32m   (...)\u001b[0m\n\u001b[1;32m    857\u001b[0m \u001b[38;5;124;03m    'digraph Tree {...\u001b[39;00m\n\u001b[1;32m    858\u001b[0m \u001b[38;5;124;03m    \"\"\"\u001b[39;00m\n\u001b[0;32m--> 860\u001b[0m     \u001b[43mcheck_is_fitted\u001b[49m\u001b[43m(\u001b[49m\u001b[43mdecision_tree\u001b[49m\u001b[43m)\u001b[49m\n\u001b[1;32m    861\u001b[0m     own_file \u001b[38;5;241m=\u001b[39m \u001b[38;5;28;01mFalse\u001b[39;00m\n\u001b[1;32m    862\u001b[0m     return_string \u001b[38;5;241m=\u001b[39m \u001b[38;5;28;01mFalse\u001b[39;00m\n",
      "File \u001b[0;32m/Library/Frameworks/Python.framework/Versions/3.10/lib/python3.10/site-packages/sklearn/utils/validation.py:1208\u001b[0m, in \u001b[0;36mcheck_is_fitted\u001b[0;34m(estimator, attributes, msg, all_or_any)\u001b[0m\n\u001b[1;32m   1202\u001b[0m     msg \u001b[38;5;241m=\u001b[39m (\n\u001b[1;32m   1203\u001b[0m         \u001b[38;5;124m\"\u001b[39m\u001b[38;5;124mThis \u001b[39m\u001b[38;5;132;01m%(name)s\u001b[39;00m\u001b[38;5;124m instance is not fitted yet. Call \u001b[39m\u001b[38;5;124m'\u001b[39m\u001b[38;5;124mfit\u001b[39m\u001b[38;5;124m'\u001b[39m\u001b[38;5;124m with \u001b[39m\u001b[38;5;124m\"\u001b[39m\n\u001b[1;32m   1204\u001b[0m         \u001b[38;5;124m\"\u001b[39m\u001b[38;5;124mappropriate arguments before using this estimator.\u001b[39m\u001b[38;5;124m\"\u001b[39m\n\u001b[1;32m   1205\u001b[0m     )\n\u001b[1;32m   1207\u001b[0m \u001b[38;5;28;01mif\u001b[39;00m \u001b[38;5;129;01mnot\u001b[39;00m \u001b[38;5;28mhasattr\u001b[39m(estimator, \u001b[38;5;124m\"\u001b[39m\u001b[38;5;124mfit\u001b[39m\u001b[38;5;124m\"\u001b[39m):\n\u001b[0;32m-> 1208\u001b[0m     \u001b[38;5;28;01mraise\u001b[39;00m \u001b[38;5;167;01mTypeError\u001b[39;00m(\u001b[38;5;124m\"\u001b[39m\u001b[38;5;132;01m%s\u001b[39;00m\u001b[38;5;124m is not an estimator instance.\u001b[39m\u001b[38;5;124m\"\u001b[39m \u001b[38;5;241m%\u001b[39m (estimator))\n\u001b[1;32m   1210\u001b[0m \u001b[38;5;28;01mif\u001b[39;00m attributes \u001b[38;5;129;01mis\u001b[39;00m \u001b[38;5;129;01mnot\u001b[39;00m \u001b[38;5;28;01mNone\u001b[39;00m:\n\u001b[1;32m   1211\u001b[0m     \u001b[38;5;28;01mif\u001b[39;00m \u001b[38;5;129;01mnot\u001b[39;00m \u001b[38;5;28misinstance\u001b[39m(attributes, (\u001b[38;5;28mlist\u001b[39m, \u001b[38;5;28mtuple\u001b[39m)):\n",
      "\u001b[0;31mTypeError\u001b[0m: <id3.tree.Tree object at 0x141468ac0> is not an estimator instance."
     ]
    }
   ],
   "source": [
    "dot_data = tree.export_graphviz(id3.tree_, out_file=None,\n",
    "                               feature_names=feat_name,\n",
    "                               class_names=[\"No\", \"Yes\"],\n",
    "                               filled=True, rounded=True,\n",
    "                               special_characters=True)\n",
    "graph = graphviz.Source(dot_data)\n",
    "graph"
   ]
  },
  {
   "cell_type": "markdown",
   "id": "0888fb69",
   "metadata": {},
   "source": [
    "### Accuracy & F1 Score"
   ]
  },
  {
   "cell_type": "code",
   "execution_count": 94,
   "id": "28db660e",
   "metadata": {},
   "outputs": [
    {
     "name": "stdout",
     "output_type": "stream",
     "text": [
      "Id3Estimator\n",
      "Accuracy:  0.6666666666666666\n",
      "f1_score:  0.6666666666666666\n"
     ]
    }
   ],
   "source": [
    "pred_id3 = id3.predict(X_test)\n",
    "acc_id3 = accuracy_score(y_test, pred_id3)\n",
    "f1_id3 = f1_score(y_test, pred_id3)\n",
    "print(\"Id3Estimator\")\n",
    "print(\"Accuracy: \", acc_id3)\n",
    "print(\"f1_score: \", f1_id3)"
   ]
  },
  {
   "cell_type": "markdown",
   "id": "6f3260d5",
   "metadata": {},
   "source": [
    "## KMeans"
   ]
  },
  {
   "cell_type": "code",
   "execution_count": 95,
   "id": "b57e4b9a",
   "metadata": {},
   "outputs": [],
   "source": [
    "kmeans = KMeans(n_clusters=4, random_state=RANDOM_STATE)\n",
    "kmeans_train = kmeans.fit(X_train, y_train)"
   ]
  },
  {
   "cell_type": "markdown",
   "id": "40716017",
   "metadata": {},
   "source": [
    "### Visualize Clusters"
   ]
  },
  {
   "cell_type": "code",
   "execution_count": 96,
   "id": "6e64d152",
   "metadata": {},
   "outputs": [
    {
     "ename": "InvalidIndexError",
     "evalue": "(slice(None, None, None), 0)",
     "output_type": "error",
     "traceback": [
      "\u001b[0;31m---------------------------------------------------------------------------\u001b[0m",
      "\u001b[0;31mTypeError\u001b[0m                                 Traceback (most recent call last)",
      "File \u001b[0;32m/Library/Frameworks/Python.framework/Versions/3.10/lib/python3.10/site-packages/pandas/core/indexes/base.py:3621\u001b[0m, in \u001b[0;36mIndex.get_loc\u001b[0;34m(self, key, method, tolerance)\u001b[0m\n\u001b[1;32m   3620\u001b[0m \u001b[38;5;28;01mtry\u001b[39;00m:\n\u001b[0;32m-> 3621\u001b[0m     \u001b[38;5;28;01mreturn\u001b[39;00m \u001b[38;5;28;43mself\u001b[39;49m\u001b[38;5;241;43m.\u001b[39;49m\u001b[43m_engine\u001b[49m\u001b[38;5;241;43m.\u001b[39;49m\u001b[43mget_loc\u001b[49m\u001b[43m(\u001b[49m\u001b[43mcasted_key\u001b[49m\u001b[43m)\u001b[49m\n\u001b[1;32m   3622\u001b[0m \u001b[38;5;28;01mexcept\u001b[39;00m \u001b[38;5;167;01mKeyError\u001b[39;00m \u001b[38;5;28;01mas\u001b[39;00m err:\n",
      "File \u001b[0;32m/Library/Frameworks/Python.framework/Versions/3.10/lib/python3.10/site-packages/pandas/_libs/index.pyx:136\u001b[0m, in \u001b[0;36mpandas._libs.index.IndexEngine.get_loc\u001b[0;34m()\u001b[0m\n",
      "File \u001b[0;32m/Library/Frameworks/Python.framework/Versions/3.10/lib/python3.10/site-packages/pandas/_libs/index.pyx:142\u001b[0m, in \u001b[0;36mpandas._libs.index.IndexEngine.get_loc\u001b[0;34m()\u001b[0m\n",
      "\u001b[0;31mTypeError\u001b[0m: '(slice(None, None, None), 0)' is an invalid key",
      "\nDuring handling of the above exception, another exception occurred:\n",
      "\u001b[0;31mInvalidIndexError\u001b[0m                         Traceback (most recent call last)",
      "Input \u001b[0;32mIn [96]\u001b[0m, in \u001b[0;36m<module>\u001b[0;34m\u001b[0m\n\u001b[0;32m----> 1\u001b[0m output \u001b[38;5;241m=\u001b[39m plt\u001b[38;5;241m.\u001b[39mscatter(\u001b[43mX_train\u001b[49m\u001b[43m[\u001b[49m\u001b[43m:\u001b[49m\u001b[43m,\u001b[49m\u001b[38;5;241;43m0\u001b[39;49m\u001b[43m]\u001b[49m, X_train[:,\u001b[38;5;241m1\u001b[39m], s \u001b[38;5;241m=\u001b[39m \u001b[38;5;241m100\u001b[39m, c \u001b[38;5;241m=\u001b[39m kmeans\u001b[38;5;241m.\u001b[39mlabels_, marker \u001b[38;5;241m=\u001b[39m \u001b[38;5;124m'\u001b[39m\u001b[38;5;124mo\u001b[39m\u001b[38;5;124m'\u001b[39m, alpha \u001b[38;5;241m=\u001b[39m \u001b[38;5;241m1\u001b[39m, )\n\u001b[1;32m      2\u001b[0m centers \u001b[38;5;241m=\u001b[39m kmeans_train\u001b[38;5;241m.\u001b[39mcluster_centers_\n\u001b[1;32m      3\u001b[0m plt\u001b[38;5;241m.\u001b[39mscatter(centers[:,\u001b[38;5;241m0\u001b[39m], centers[:,\u001b[38;5;241m1\u001b[39m], c\u001b[38;5;241m=\u001b[39m\u001b[38;5;124m'\u001b[39m\u001b[38;5;124mred\u001b[39m\u001b[38;5;124m'\u001b[39m, s\u001b[38;5;241m=\u001b[39m\u001b[38;5;241m200\u001b[39m, alpha\u001b[38;5;241m=\u001b[39m\u001b[38;5;241m1\u001b[39m , marker\u001b[38;5;241m=\u001b[39m\u001b[38;5;124m'\u001b[39m\u001b[38;5;124mo\u001b[39m\u001b[38;5;124m'\u001b[39m);\n",
      "File \u001b[0;32m/Library/Frameworks/Python.framework/Versions/3.10/lib/python3.10/site-packages/pandas/core/frame.py:3506\u001b[0m, in \u001b[0;36mDataFrame.__getitem__\u001b[0;34m(self, key)\u001b[0m\n\u001b[1;32m   3504\u001b[0m \u001b[38;5;28;01mif\u001b[39;00m \u001b[38;5;28mself\u001b[39m\u001b[38;5;241m.\u001b[39mcolumns\u001b[38;5;241m.\u001b[39mnlevels \u001b[38;5;241m>\u001b[39m \u001b[38;5;241m1\u001b[39m:\n\u001b[1;32m   3505\u001b[0m     \u001b[38;5;28;01mreturn\u001b[39;00m \u001b[38;5;28mself\u001b[39m\u001b[38;5;241m.\u001b[39m_getitem_multilevel(key)\n\u001b[0;32m-> 3506\u001b[0m indexer \u001b[38;5;241m=\u001b[39m \u001b[38;5;28;43mself\u001b[39;49m\u001b[38;5;241;43m.\u001b[39;49m\u001b[43mcolumns\u001b[49m\u001b[38;5;241;43m.\u001b[39;49m\u001b[43mget_loc\u001b[49m\u001b[43m(\u001b[49m\u001b[43mkey\u001b[49m\u001b[43m)\u001b[49m\n\u001b[1;32m   3507\u001b[0m \u001b[38;5;28;01mif\u001b[39;00m is_integer(indexer):\n\u001b[1;32m   3508\u001b[0m     indexer \u001b[38;5;241m=\u001b[39m [indexer]\n",
      "File \u001b[0;32m/Library/Frameworks/Python.framework/Versions/3.10/lib/python3.10/site-packages/pandas/core/indexes/base.py:3628\u001b[0m, in \u001b[0;36mIndex.get_loc\u001b[0;34m(self, key, method, tolerance)\u001b[0m\n\u001b[1;32m   3623\u001b[0m         \u001b[38;5;28;01mraise\u001b[39;00m \u001b[38;5;167;01mKeyError\u001b[39;00m(key) \u001b[38;5;28;01mfrom\u001b[39;00m \u001b[38;5;21;01merr\u001b[39;00m\n\u001b[1;32m   3624\u001b[0m     \u001b[38;5;28;01mexcept\u001b[39;00m \u001b[38;5;167;01mTypeError\u001b[39;00m:\n\u001b[1;32m   3625\u001b[0m         \u001b[38;5;66;03m# If we have a listlike key, _check_indexing_error will raise\u001b[39;00m\n\u001b[1;32m   3626\u001b[0m         \u001b[38;5;66;03m#  InvalidIndexError. Otherwise we fall through and re-raise\u001b[39;00m\n\u001b[1;32m   3627\u001b[0m         \u001b[38;5;66;03m#  the TypeError.\u001b[39;00m\n\u001b[0;32m-> 3628\u001b[0m         \u001b[38;5;28;43mself\u001b[39;49m\u001b[38;5;241;43m.\u001b[39;49m\u001b[43m_check_indexing_error\u001b[49m\u001b[43m(\u001b[49m\u001b[43mkey\u001b[49m\u001b[43m)\u001b[49m\n\u001b[1;32m   3629\u001b[0m         \u001b[38;5;28;01mraise\u001b[39;00m\n\u001b[1;32m   3631\u001b[0m \u001b[38;5;66;03m# GH#42269\u001b[39;00m\n",
      "File \u001b[0;32m/Library/Frameworks/Python.framework/Versions/3.10/lib/python3.10/site-packages/pandas/core/indexes/base.py:5637\u001b[0m, in \u001b[0;36mIndex._check_indexing_error\u001b[0;34m(self, key)\u001b[0m\n\u001b[1;32m   5633\u001b[0m \u001b[38;5;28;01mdef\u001b[39;00m \u001b[38;5;21m_check_indexing_error\u001b[39m(\u001b[38;5;28mself\u001b[39m, key):\n\u001b[1;32m   5634\u001b[0m     \u001b[38;5;28;01mif\u001b[39;00m \u001b[38;5;129;01mnot\u001b[39;00m is_scalar(key):\n\u001b[1;32m   5635\u001b[0m         \u001b[38;5;66;03m# if key is not a scalar, directly raise an error (the code below\u001b[39;00m\n\u001b[1;32m   5636\u001b[0m         \u001b[38;5;66;03m# would convert to numpy arrays and raise later any way) - GH29926\u001b[39;00m\n\u001b[0;32m-> 5637\u001b[0m         \u001b[38;5;28;01mraise\u001b[39;00m InvalidIndexError(key)\n",
      "\u001b[0;31mInvalidIndexError\u001b[0m: (slice(None, None, None), 0)"
     ]
    }
   ],
   "source": [
    "output = plt.scatter(X_train[:,0], X_train[:,1], s = 100, c = kmeans.labels_, marker = 'o', alpha = 1, )\n",
    "centers = kmeans_train.cluster_centers_\n",
    "plt.scatter(centers[:,0], centers[:,1], c='red', s=200, alpha=1 , marker='o');\n",
    "plt.title(\"Hasil Klustering K-Means\")\n",
    "plt.colorbar (output)\n",
    "plt.show()"
   ]
  },
  {
   "cell_type": "markdown",
   "id": "663d1d36",
   "metadata": {},
   "source": [
    "### Accuracy & F1"
   ]
  },
  {
   "cell_type": "code",
   "execution_count": 98,
   "id": "f6f1ef82",
   "metadata": {},
   "outputs": [
    {
     "name": "stdout",
     "output_type": "stream",
     "text": [
      "KMeans\n",
      "Accuracy:  0.6666666666666666\n",
      "f1_score:  0.6666666666666666\n"
     ]
    }
   ],
   "source": [
    "pred_kmeans = kmeans.predict(X_test)\n",
    "pred_kmeans = [0 if label!=1 else 1 for label in pred_kmeans]\n",
    "acc_kmeans = accuracy_score(y_test, pred_kmeans)\n",
    "f1_kmeans = f1_score(y_test, pred_kmeans)\n",
    "print(\"KMeans\")\n",
    "print(\"Accuracy: \", acc_kmeans)\n",
    "print(\"f1_score: \", f1_kmeans)"
   ]
  },
  {
   "cell_type": "markdown",
   "id": "18dced4e",
   "metadata": {},
   "source": [
    "## LogisticRegression"
   ]
  },
  {
   "cell_type": "code",
   "execution_count": 99,
   "id": "a6319991",
   "metadata": {},
   "outputs": [
    {
     "data": {
      "text/plain": [
       "LogisticRegression(random_state=1)"
      ]
     },
     "execution_count": 99,
     "metadata": {},
     "output_type": "execute_result"
    }
   ],
   "source": [
    "log = LogisticRegression(random_state=RANDOM_STATE, max_iter=100)\n",
    "log.fit(X_train, y_train)"
   ]
  },
  {
   "cell_type": "markdown",
   "id": "6b9f925d",
   "metadata": {},
   "source": [
    "### Show Coefficients"
   ]
  },
  {
   "cell_type": "code",
   "execution_count": 100,
   "id": "16ec5146",
   "metadata": {},
   "outputs": [
    {
     "data": {
      "text/plain": [
       "array([[-0.6364867 ,  0.29289308,  0.78462682,  0.69810077]])"
      ]
     },
     "execution_count": 100,
     "metadata": {},
     "output_type": "execute_result"
    }
   ],
   "source": [
    "log.coef_"
   ]
  },
  {
   "cell_type": "markdown",
   "id": "1036392b",
   "metadata": {},
   "source": [
    "### Accuracy & F1"
   ]
  },
  {
   "cell_type": "code",
   "execution_count": 101,
   "id": "36276462",
   "metadata": {},
   "outputs": [
    {
     "name": "stdout",
     "output_type": "stream",
     "text": [
      "LogisticRegression\n",
      "Accuracy:  0.6666666666666666\n",
      "f1_score:  0.8\n"
     ]
    }
   ],
   "source": [
    "pred_log = log.predict(X_test)\n",
    "acc_log = accuracy_score(y_test, pred_log)\n",
    "f1_log = f1_score(y_test, pred_log)\n",
    "print(\"LogisticRegression\")\n",
    "print(\"Accuracy: \", acc_log)\n",
    "print(\"f1_score: \", f1_log)"
   ]
  },
  {
   "cell_type": "markdown",
   "id": "a294ed69",
   "metadata": {},
   "source": [
    "## Neural Network"
   ]
  },
  {
   "cell_type": "code",
   "execution_count": 102,
   "id": "1ecaa545",
   "metadata": {},
   "outputs": [
    {
     "data": {
      "text/plain": [
       "MLPClassifier(max_iter=300, random_state=1)"
      ]
     },
     "execution_count": 102,
     "metadata": {},
     "output_type": "execute_result"
    }
   ],
   "source": [
    "# MLPClassifier\n",
    "mlp = MLPClassifier(random_state=RANDOM_STATE, max_iter=300)\n",
    "mlp.fit(X_train, y_train)"
   ]
  },
  {
   "cell_type": "markdown",
   "id": "1f4d9dc3",
   "metadata": {},
   "source": [
    "### Show Coefficients"
   ]
  },
  {
   "cell_type": "code",
   "execution_count": 103,
   "id": "0f57f1c5",
   "metadata": {},
   "outputs": [
    {
     "data": {
      "text/plain": [
       "[array([[-2.01669544e-03,  2.52702012e-01, -2.79707027e-01,\n",
       "         -9.48064481e-02, -2.31377959e-01, -3.61082260e-01,\n",
       "         -4.44193714e-03, -7.72281157e-02, -3.49068090e-02,\n",
       "          1.49294967e-01,  1.25741193e-08,  1.28161442e-01,\n",
       "         -4.12696786e-02,  3.79593168e-01, -2.74252389e-01,\n",
       "         -8.55969570e-02, -2.22984282e-01,  1.64727351e-01,\n",
       "         -2.24160065e-01, -1.88756194e-01,  3.34568878e-03,\n",
       "          2.23659935e-01, -6.97992204e-06,  1.87727201e-01,\n",
       "          3.46120337e-02,  3.33531797e-01, -1.94774150e-02,\n",
       "         -1.91921488e-01, -6.10055402e-03,  3.46957492e-01,\n",
       "         -3.65061797e-01,  6.14537481e-02,  8.06981018e-02,\n",
       "          2.24640563e-09, -5.92497570e-02, -4.70800830e-06,\n",
       "          2.44783813e-02,  8.12992800e-02, -1.93506374e-02,\n",
       "          2.69935593e-01, -2.22235437e-02,  8.40336139e-02,\n",
       "         -1.58218757e-01,  2.69609310e-01, -1.69879608e-01,\n",
       "         -1.13581180e-01,  7.51367693e-02,  1.47007541e-02,\n",
       "         -5.13233051e-02, -1.13965021e-02, -3.47773234e-02,\n",
       "         -1.12919450e-01, -3.71396277e-01, -2.03046003e-01,\n",
       "         -7.61018148e-02, -1.48106812e-01, -1.00145288e-01,\n",
       "         -1.24965149e-01, -6.28775350e-02,  1.10473536e-01,\n",
       "         -1.61204974e-02, -1.59803317e-01, -1.87484310e-02,\n",
       "         -4.39092380e-02, -3.24368105e-01, -1.34019499e-09,\n",
       "         -1.18011508e-01, -1.02337811e-09,  1.32360960e-01,\n",
       "          1.87310431e-01,  4.23283684e-01, -2.21269897e-01,\n",
       "         -3.56664998e-01,  7.63254559e-02, -1.34561172e-01,\n",
       "         -1.96444796e-01,  3.84836442e-01, -3.07434781e-01,\n",
       "          1.45528291e-01,  2.13518841e-02,  2.56416983e-02,\n",
       "          1.01846565e-01, -3.77892190e-02,  2.48420909e-02,\n",
       "         -2.98568159e-04,  4.31527538e-01, -8.76538323e-09,\n",
       "          4.25092867e-01,  2.67126995e-01, -9.19074372e-02,\n",
       "         -1.39014181e-02,  1.42869328e-01, -1.49850217e-01,\n",
       "          2.13070266e-01,  1.24707198e-01,  3.37195131e-02,\n",
       "          3.67005980e-01,  2.49942973e-01, -1.49717247e-01,\n",
       "          2.18297942e-01],\n",
       "        [-1.57237118e-01, -5.27534289e-02,  1.30753267e-01,\n",
       "         -1.22467959e-01,  4.01261917e-01,  6.17599219e-02,\n",
       "         -3.57067255e-02,  1.96180640e-01,  2.13356017e-01,\n",
       "          1.95580354e-01, -5.82721549e-03, -2.28393907e-01,\n",
       "          1.48286350e-01,  4.13853104e-02,  6.27476749e-03,\n",
       "          4.23590194e-01,  2.89161086e-01,  1.75906948e-01,\n",
       "          2.42680108e-01, -2.22688124e-01, -3.46436152e-02,\n",
       "         -4.57606637e-01, -3.24777410e-02,  7.39666795e-02,\n",
       "          2.52520913e-01,  8.52637040e-02, -5.89513075e-10,\n",
       "          1.18786506e-01, -1.23260535e-02, -9.44437459e-02,\n",
       "          1.21458769e-01,  1.65197515e-01,  4.57398708e-02,\n",
       "         -3.49651776e-02,  2.22953969e-01, -1.33740043e-03,\n",
       "          1.85262509e-01, -3.65052078e-01,  1.15285680e-01,\n",
       "          1.20512487e-01,  2.17991208e-01, -3.05596973e-01,\n",
       "         -1.45025433e-01,  4.72238319e-02, -2.76530113e-01,\n",
       "         -2.29868890e-01, -2.77699241e-01,  4.35524346e-02,\n",
       "          1.52104301e-01, -3.65711307e-02, -2.22116798e-02,\n",
       "          3.76351782e-01,  6.25374933e-02, -3.16939062e-01,\n",
       "         -1.51863670e-01,  7.40379716e-02,  9.74442601e-02,\n",
       "          1.89506368e-01,  3.10987146e-01,  1.20153329e-01,\n",
       "         -1.06309677e-03,  2.11918044e-01,  2.10850475e-01,\n",
       "          1.24565875e-01,  2.78180839e-02, -3.49837552e-02,\n",
       "         -2.67908337e-01,  1.21190378e-09,  9.94896056e-02,\n",
       "          7.17107595e-02, -1.42718920e-01,  4.48659256e-01,\n",
       "          1.16738686e-01,  1.83000561e-02,  1.31617443e-01,\n",
       "          3.80395650e-01,  6.93894801e-03,  3.30284649e-02,\n",
       "         -4.16106494e-01, -2.43934025e-01,  1.54645545e-01,\n",
       "         -2.40693067e-01,  2.05436040e-01, -1.67108021e-01,\n",
       "         -4.74294309e-04,  8.33472382e-02, -3.81353179e-03,\n",
       "          1.67510821e-01,  4.92405137e-02,  2.95700934e-01,\n",
       "         -1.20142819e-02, -1.32156078e-01,  2.92479626e-01,\n",
       "          9.99014979e-02,  1.39847628e-01,  1.40792970e-01,\n",
       "         -1.26303812e-01, -4.61005793e-02, -6.70732861e-02,\n",
       "          1.43481452e-01],\n",
       "        [ 1.35990677e-01, -1.22858887e-01,  1.41694744e-01,\n",
       "          1.71538624e-01,  1.77072067e-01, -2.42855602e-02,\n",
       "          1.57819796e-08, -1.15743190e-01,  4.11020704e-01,\n",
       "          7.45389122e-02, -1.17275549e-08,  1.55507007e-01,\n",
       "         -3.08972653e-01, -4.05753495e-01,  1.34582690e-02,\n",
       "          3.46887388e-01,  3.93680436e-02,  7.86919973e-02,\n",
       "          4.13248249e-01,  5.56740191e-03, -5.42138780e-03,\n",
       "          7.05893621e-02, -1.12464340e-02,  3.59028519e-01,\n",
       "          9.82633945e-02,  5.69516493e-02, -1.43557151e-08,\n",
       "          8.53947835e-02,  7.82919562e-03,  3.27548347e-02,\n",
       "          2.27200487e-01, -1.26270847e-01,  2.93963287e-01,\n",
       "         -1.17349477e-04,  1.64727653e-01,  2.68100432e-08,\n",
       "         -2.01319070e-01,  2.17811411e-01, -1.73604816e-01,\n",
       "          1.09822039e-02,  2.36764459e-01,  2.43120813e-01,\n",
       "          1.59735442e-01, -5.52601960e-01,  3.76162266e-01,\n",
       "          8.39519624e-02, -1.20862426e-01, -1.85781198e-01,\n",
       "          2.83877420e-01,  2.02235048e-02, -3.98585620e-02,\n",
       "          4.93182747e-01,  5.49894705e-02,  4.44930488e-01,\n",
       "          9.68996972e-02,  1.01992406e-01,  3.40985718e-01,\n",
       "          3.40297408e-01,  1.02462935e-01, -1.26157888e-01,\n",
       "          7.31685294e-04,  4.67545264e-01,  3.08434334e-01,\n",
       "         -1.26577224e-02,  2.37454509e-01, -8.51099388e-08,\n",
       "          5.05976801e-02, -4.83240058e-09,  1.96187047e-02,\n",
       "         -3.49066986e-01, -3.74903208e-01,  1.74223361e-01,\n",
       "          2.31385953e-01,  1.94409801e-01,  4.26590565e-01,\n",
       "          3.26686680e-01, -3.39845576e-01,  6.64546282e-02,\n",
       "          9.49756045e-02,  1.98029142e-01,  3.62556207e-01,\n",
       "          8.31063437e-02,  2.59844240e-01, -1.08790200e-01,\n",
       "         -6.65343001e-04, -8.74367791e-02, -2.15914056e-10,\n",
       "         -1.06809035e-01, -2.48853826e-01,  2.97923617e-01,\n",
       "          1.73044368e-09,  3.14531600e-01,  2.04374245e-01,\n",
       "         -3.55265153e-01, -3.01397453e-01, -3.94708265e-01,\n",
       "         -3.06264899e-01, -5.09873908e-01,  2.64027120e-01,\n",
       "         -4.39621746e-01],\n",
       "        [ 4.37239297e-02,  5.43163063e-02,  4.09654138e-02,\n",
       "         -1.40087666e-01,  6.26709253e-03,  1.68045343e-04,\n",
       "          4.06004421e-07, -1.61088518e-01,  2.21566512e-01,\n",
       "         -1.85579608e-01,  1.97520994e-02,  1.37820287e-01,\n",
       "         -2.00506474e-01, -3.76736033e-01,  2.91258907e-01,\n",
       "          3.00380090e-01,  3.63395129e-01, -2.35895452e-01,\n",
       "          7.23344298e-02,  4.17153190e-01,  1.51874819e-08,\n",
       "          3.04872240e-01, -1.30788407e-03,  1.53603036e-01,\n",
       "          1.51296882e-01, -1.29593404e-01, -8.16255015e-03,\n",
       "         -2.78496976e-02,  1.48053861e-09, -5.76219097e-02,\n",
       "          1.12974312e-01,  7.12995786e-02, -1.46259376e-02,\n",
       "          1.70874694e-09,  2.81097172e-01, -3.40080223e-02,\n",
       "         -3.97683811e-02,  5.01042795e-01,  1.08365735e-01,\n",
       "         -7.92990896e-02,  4.53708845e-01,  4.64085114e-01,\n",
       "          4.62774402e-01,  9.35655495e-02, -4.88989429e-01,\n",
       "         -6.47351858e-02,  2.05557711e-01, -6.75451976e-02,\n",
       "          2.98295819e-01, -3.09044008e-02,  1.48022657e-03,\n",
       "          3.39463206e-01,  3.85755305e-02, -4.88285009e-01,\n",
       "         -8.33593563e-02, -1.43940802e-01,  4.10772882e-01,\n",
       "          1.93059334e-01,  3.08644152e-01,  1.45386322e-01,\n",
       "         -3.64630986e-05,  7.97381656e-02,  3.49857393e-01,\n",
       "         -4.08958735e-02,  3.88880573e-01,  1.75027015e-07,\n",
       "          4.36812689e-01,  4.30872499e-09,  8.46543385e-02,\n",
       "         -3.83149552e-02, -3.65144529e-01, -5.39494656e-02,\n",
       "          1.49352515e-01,  3.08796622e-01, -5.67400253e-02,\n",
       "          1.42456253e-01,  1.35194875e-02,  3.40631673e-01,\n",
       "          3.65690537e-01, -4.65791016e-01,  1.38116767e-01,\n",
       "         -4.35270626e-02,  3.89207352e-01, -3.34698162e-01,\n",
       "         -7.98029559e-04, -3.17476003e-01,  7.36014719e-04,\n",
       "         -2.28643216e-01, -3.39490465e-01,  1.61184973e-01,\n",
       "         -2.45225883e-03,  2.99166762e-01,  6.08374574e-02,\n",
       "         -4.86011435e-02,  8.30275311e-02,  1.42203802e-01,\n",
       "         -2.92688920e-01, -1.50080910e-01, -1.04453558e-01,\n",
       "          7.84927077e-02]]),\n",
       " array([[-1.44395889e-01],\n",
       "        [-1.79587038e-01],\n",
       "        [-4.48493227e-02],\n",
       "        [-3.48663285e-01],\n",
       "        [ 2.95251516e-01],\n",
       "        [ 9.87132442e-02],\n",
       "        [ 5.13848974e-03],\n",
       "        [-1.82638430e-01],\n",
       "        [ 3.26851285e-01],\n",
       "        [-9.58183563e-02],\n",
       "        [ 1.76095332e-09],\n",
       "        [-1.93915587e-02],\n",
       "        [-2.93474915e-01],\n",
       "        [-3.64178772e-01],\n",
       "        [ 3.31385440e-01],\n",
       "        [ 2.96024079e-01],\n",
       "        [ 1.66057062e-01],\n",
       "        [-1.51027279e-01],\n",
       "        [ 2.01314860e-01],\n",
       "        [ 5.59403946e-01],\n",
       "        [ 5.18763517e-03],\n",
       "        [ 3.63562113e-01],\n",
       "        [ 3.53983780e-02],\n",
       "        [ 4.77373877e-01],\n",
       "        [ 1.46013530e-01],\n",
       "        [-2.59614575e-01],\n",
       "        [-1.89651809e-02],\n",
       "        [-1.25805500e-01],\n",
       "        [-4.92991401e-09],\n",
       "        [-1.14034612e-01],\n",
       "        [ 5.46576931e-01],\n",
       "        [-1.47584252e-01],\n",
       "        [ 3.70359356e-01],\n",
       "        [ 1.53506440e-03],\n",
       "        [ 2.72131445e-01],\n",
       "        [ 1.45611468e-07],\n",
       "        [-1.21848997e-01],\n",
       "        [ 3.05703739e-01],\n",
       "        [-1.87420858e-01],\n",
       "        [-7.40965508e-02],\n",
       "        [ 1.75778396e-01],\n",
       "        [ 3.42181068e-01],\n",
       "        [ 2.99147605e-01],\n",
       "        [-3.59997581e-01],\n",
       "        [-5.18708304e-01],\n",
       "        [-3.05580113e-01],\n",
       "        [ 1.11736619e-01],\n",
       "        [-1.23773990e-01],\n",
       "        [ 4.90760027e-01],\n",
       "        [-2.19731021e-03],\n",
       "        [ 1.17176291e-06],\n",
       "        [ 1.58163135e-01],\n",
       "        [ 3.20312051e-01],\n",
       "        [-3.28871496e-01],\n",
       "        [-2.65283705e-01],\n",
       "        [-9.90880528e-03],\n",
       "        [ 2.01481498e-01],\n",
       "        [ 3.54824067e-01],\n",
       "        [ 3.17198781e-01],\n",
       "        [-1.89925655e-01],\n",
       "        [-3.56908344e-02],\n",
       "        [ 2.35595936e-01],\n",
       "        [ 3.50726532e-01],\n",
       "        [-1.91565118e-01],\n",
       "        [ 2.48099685e-01],\n",
       "        [ 1.11611212e-05],\n",
       "        [ 1.16777139e-01],\n",
       "        [ 2.07012733e-02],\n",
       "        [ 9.22381465e-03],\n",
       "        [-5.52807291e-01],\n",
       "        [-2.60151145e-01],\n",
       "        [ 4.56396328e-01],\n",
       "        [ 4.89670688e-01],\n",
       "        [ 3.45796794e-01],\n",
       "        [ 2.43789864e-01],\n",
       "        [ 3.89982799e-01],\n",
       "        [-2.77563363e-01],\n",
       "        [ 2.38726673e-01],\n",
       "        [ 4.20900102e-01],\n",
       "        [-3.82195947e-01],\n",
       "        [ 3.88456146e-01],\n",
       "        [-1.76456294e-01],\n",
       "        [ 2.61926089e-01],\n",
       "        [-4.28584611e-01],\n",
       "        [ 1.85671632e-03],\n",
       "        [-1.66406951e-01],\n",
       "        [ 4.30532058e-03],\n",
       "        [-2.45242154e-01],\n",
       "        [-4.22673172e-01],\n",
       "        [ 3.08599743e-01],\n",
       "        [ 7.90289131e-04],\n",
       "        [ 2.68666482e-01],\n",
       "        [ 3.50192060e-01],\n",
       "        [-4.16261099e-01],\n",
       "        [-2.85957518e-01],\n",
       "        [-2.36567295e-01],\n",
       "        [-4.40430131e-01],\n",
       "        [-3.45106243e-01],\n",
       "        [-2.06535889e-01],\n",
       "        [-4.41076458e-01]])]"
      ]
     },
     "execution_count": 103,
     "metadata": {},
     "output_type": "execute_result"
    }
   ],
   "source": [
    "mlp.coefs_"
   ]
  },
  {
   "cell_type": "markdown",
   "id": "dfc870e4",
   "metadata": {},
   "source": [
    "### Accuracy & F1"
   ]
  },
  {
   "cell_type": "code",
   "execution_count": 104,
   "id": "b3915198",
   "metadata": {},
   "outputs": [
    {
     "name": "stdout",
     "output_type": "stream",
     "text": [
      "MLPClassifier\n",
      "Accuracy:  1.0\n",
      "f1_score:  1.0\n"
     ]
    }
   ],
   "source": [
    "pred_mlp = mlp.predict(X_test)\n",
    "acc_mlp = accuracy_score(y_test, pred_mlp)\n",
    "f1_mlp = f1_score(y_test, pred_mlp)\n",
    "print(\"MLPClassifier\")\n",
    "print(\"Accuracy: \", acc_mlp)\n",
    "print(\"f1_score: \", f1_mlp)"
   ]
  },
  {
   "cell_type": "markdown",
   "id": "3518dea8",
   "metadata": {},
   "source": [
    "### SVM"
   ]
  },
  {
   "cell_type": "code",
   "execution_count": 105,
   "id": "e1b74d9f",
   "metadata": {},
   "outputs": [
    {
     "data": {
      "text/plain": [
       "Pipeline(steps=[('standardscaler', StandardScaler()),\n",
       "                ('svc', SVC(gamma='auto', kernel='linear'))])"
      ]
     },
     "execution_count": 105,
     "metadata": {},
     "output_type": "execute_result"
    }
   ],
   "source": [
    "svm = make_pipeline(StandardScaler(), SVC(kernel='linear', gamma='auto'))\n",
    "svm.fit(X_train, y_train)"
   ]
  },
  {
   "cell_type": "markdown",
   "id": "139c3aad",
   "metadata": {},
   "source": [
    "### Show Coefficients"
   ]
  },
  {
   "cell_type": "code",
   "execution_count": 106,
   "id": "f8af684f",
   "metadata": {},
   "outputs": [
    {
     "data": {
      "text/plain": [
       "array([[-0.79252711,  0.78817254,  1.25449077,  0.75382527]])"
      ]
     },
     "execution_count": 106,
     "metadata": {},
     "output_type": "execute_result"
    }
   ],
   "source": [
    "svm.steps[1][1].coef_"
   ]
  },
  {
   "cell_type": "markdown",
   "id": "08fb097f",
   "metadata": {},
   "source": [
    "### Accuracy & F1"
   ]
  },
  {
   "cell_type": "code",
   "execution_count": 107,
   "id": "7106d4b3",
   "metadata": {},
   "outputs": [
    {
     "name": "stdout",
     "output_type": "stream",
     "text": [
      "SVM\n",
      "Accuracy:  1.0\n",
      "f1_score:  1.0\n"
     ]
    }
   ],
   "source": [
    "pred_svm = svm.predict(X_test)\n",
    "acc_svm = accuracy_score(y_test, pred_svm)\n",
    "f1_svm = f1_score(y_test, pred_svm)\n",
    "print(\"SVM\")\n",
    "print(\"Accuracy: \", acc_svm)\n",
    "print(\"f1_score: \", f1_svm)"
   ]
  },
  {
   "cell_type": "markdown",
   "id": "db346d45",
   "metadata": {},
   "source": [
    "## Performance Summary"
   ]
  },
  {
   "cell_type": "code",
   "execution_count": 108,
   "id": "e4b23ca8",
   "metadata": {},
   "outputs": [
    {
     "data": {
      "text/html": [
       "<div>\n",
       "<style scoped>\n",
       "    .dataframe tbody tr th:only-of-type {\n",
       "        vertical-align: middle;\n",
       "    }\n",
       "\n",
       "    .dataframe tbody tr th {\n",
       "        vertical-align: top;\n",
       "    }\n",
       "\n",
       "    .dataframe thead th {\n",
       "        text-align: right;\n",
       "    }\n",
       "</style>\n",
       "<table border=\"1\" class=\"dataframe\">\n",
       "  <thead>\n",
       "    <tr style=\"text-align: right;\">\n",
       "      <th></th>\n",
       "      <th>Accuracy</th>\n",
       "      <th>F1</th>\n",
       "    </tr>\n",
       "  </thead>\n",
       "  <tbody>\n",
       "    <tr>\n",
       "      <th>DecisionTreeClassifier</th>\n",
       "      <td>0.666667</td>\n",
       "      <td>0.666667</td>\n",
       "    </tr>\n",
       "    <tr>\n",
       "      <th>Id3Estimator</th>\n",
       "      <td>0.666667</td>\n",
       "      <td>0.666667</td>\n",
       "    </tr>\n",
       "    <tr>\n",
       "      <th>K Means</th>\n",
       "      <td>0.666667</td>\n",
       "      <td>0.666667</td>\n",
       "    </tr>\n",
       "    <tr>\n",
       "      <th>LogisticRegression</th>\n",
       "      <td>0.666667</td>\n",
       "      <td>0.800000</td>\n",
       "    </tr>\n",
       "    <tr>\n",
       "      <th>Neural_network</th>\n",
       "      <td>1.000000</td>\n",
       "      <td>1.000000</td>\n",
       "    </tr>\n",
       "    <tr>\n",
       "      <th>SVM</th>\n",
       "      <td>1.000000</td>\n",
       "      <td>1.000000</td>\n",
       "    </tr>\n",
       "  </tbody>\n",
       "</table>\n",
       "</div>"
      ],
      "text/plain": [
       "                        Accuracy        F1\n",
       "DecisionTreeClassifier  0.666667  0.666667\n",
       "Id3Estimator            0.666667  0.666667\n",
       "K Means                 0.666667  0.666667\n",
       "LogisticRegression      0.666667  0.800000\n",
       "Neural_network          1.000000  1.000000\n",
       "SVM                     1.000000  1.000000"
      ]
     },
     "execution_count": 108,
     "metadata": {},
     "output_type": "execute_result"
    }
   ],
   "source": [
    "algo = ['DecisionTreeClassifier', 'Id3Estimator', 'K Means', 'LogisticRegression', 'Neural_network', 'SVM']\n",
    "acc = [acc_dtl, acc_id3, acc_kmeans, acc_log, acc_mlp, acc_svm]\n",
    "f1 = [f1_dtl, f1_id3, f1_kmeans, f1_log, f1_mlp, f1_svm]\n",
    "perf = {'Accuracy': acc, 'F1': f1}\n",
    "\n",
    "perf_tab = pd.DataFrame(data=perf, index=algo)\n",
    "perf_tab"
   ]
  },
  {
   "cell_type": "markdown",
   "id": "30c5ab56",
   "metadata": {},
   "source": [
    "<p>Berdasarkan performa keenam model diatas, didapatkan model dengan performa terbaik berdasarkan skor akurasi dan F1 adalah neural network (MLP Classifier) dan SVM.</p>"
   ]
  },
  {
   "cell_type": "code",
   "execution_count": null,
   "id": "224beead",
   "metadata": {},
   "outputs": [],
   "source": []
  }
 ],
 "metadata": {
  "kernelspec": {
   "display_name": "Python 3 (ipykernel)",
   "language": "python",
   "name": "python3"
  },
  "language_info": {
   "codemirror_mode": {
    "name": "ipython",
    "version": 3
   },
   "file_extension": ".py",
   "mimetype": "text/x-python",
   "name": "python",
   "nbconvert_exporter": "python",
   "pygments_lexer": "ipython3",
   "version": "3.10.1"
  }
 },
 "nbformat": 4,
 "nbformat_minor": 5
}
